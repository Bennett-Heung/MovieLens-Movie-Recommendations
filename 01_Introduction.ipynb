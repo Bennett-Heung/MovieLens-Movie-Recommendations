{
 "cells": [
  {
   "cell_type": "markdown",
   "metadata": {},
   "source": [
    "# Movie Recommendations"
   ]
  },
  {
   "cell_type": "markdown",
   "metadata": {},
   "source": [
    "# Notebook 1: Introduction"
   ]
  },
  {
   "cell_type": "markdown",
   "metadata": {},
   "source": [
    "## Purpose\n",
    "\n",
    "There are so many movies and online information about them to help viewers decide what to watch. With an overwhelming amount of information, it can be challenging for people to decide and watch a movie that they would enjoy. Recommendation systems are developed to help resolve this issue by providing movie recommendations. \n",
    "\n",
    "The following notebooks encode various recommendation systems using information provided by the latest and smallest dataset from [MovieLens](https://grouplens.org/datasets/movielens/). The raw data was not uploaded to Github following the Usage License quote: \"The user may not redistribute the data without separate permission.\"\n",
    "\n",
    "The selected content-based and collaborative filtering recommendation systems were chosen with respect to evaluating them appropriately across the same metric, the **mean average precision at k (MAP@k)**. "
   ]
  },
  {
   "cell_type": "markdown",
   "metadata": {},
   "source": [
    "# Notebook Structure "
   ]
  },
  {
   "cell_type": "markdown",
   "metadata": {},
   "source": [
    "### Notebook 1: Introduction \n",
    "\n",
    "### Notebook 2: Initial Setup\n",
    "\n",
    "**1. Setup** - importing libraries and functions\n",
    "\n",
    "**2. Load Data** - loading datasets\n",
    "\n",
    "**3. Clean Data** - removing duplicates \n",
    "\n",
    "### Notebook 3: Exploratory Data Analysis (EDA)\n",
    "\n",
    "**4. Exploratory Data Analysis (EDA)** - data visualisations\n",
    "\n",
    "### Notebook 4: Data Preparation\n",
    "\n",
    "**5. Data Preparation** - preparing data for modelling purposes\n",
    "\n",
    "### Notebook 5: Recommendation Systems\n",
    "\n",
    "**6. Modelling** - built models on the training set\n",
    "\n",
    "### Notebook 6: Evaluation\n",
    "\n",
    "**7. Evaluation** - evaluate models with MAP@k using the test set \n",
    "\n",
    "**8. Conclusion** - conclusive remarks"
   ]
  },
  {
   "cell_type": "markdown",
   "metadata": {},
   "source": [
    "# About the Data"
   ]
  },
  {
   "cell_type": "markdown",
   "metadata": {},
   "source": [
    "Summary\n",
    "=======\n",
    "\n",
    "This dataset (ml-latest) describes 5-star rating and free-text tagging activity from [MovieLens](http://movielens.org), a movie recommendation service. It contains 100,000 ratings and 3,600 tag applications applied to 9,000 movies by 600 users and was last updated in September 2018. The dataset was sourced [here](https://grouplens.org/datasets/movielens/), and was not uploaded to Github following the Usage License quote: \"*The user may not redistribute the data without separate permission.*\"\n",
    "\n",
    "\n",
    "Content and Use of Files\n",
    "========================\n",
    "\n",
    "Formatting and Encoding\n",
    "-----------------------\n",
    "\n",
    "The dataset files are written as [comma-separated values](http://en.wikipedia.org/wiki/Comma-separated_values) files with a single header row. Columns that contain commas (`,`) are escaped using double-quotes (`\"`). These files are encoded as UTF-8. \n",
    "\n",
    "\n",
    "Movie Ids\n",
    "---------\n",
    "\n",
    "These movie ids are consistent with those used on the MovieLens web site (e.g., id `1` corresponds to the URL <https://movielens.org/movies/1>). \n",
    "\n",
    "\n",
    "User Ids\n",
    "--------\n",
    "\n",
    "MovieLens users in `ratings.csv` were selected at random for inclusion. Their ids have been anonymized. \n",
    "\n",
    "\n",
    "Movies Data File Structure (movies.csv)\n",
    "---------------------------------------\n",
    "\n",
    "Movie information is contained in the file `movies.csv`. Each line of this file after the header row represents one movie, and has the following format:\n",
    "\n",
    "    movieId,title,genres\n",
    "\n",
    "Movie titles are entered manually or imported from <https://www.themoviedb.org/>, and include the year of release in parentheses. Errors and inconsistencies may exist in these titles.\n",
    "\n",
    "Genres are a pipe-separated list, and are selected from the following:\n",
    "\n",
    "* Action\n",
    "* Adventure\n",
    "* Animation\n",
    "* Children's\n",
    "* Comedy\n",
    "* Crime\n",
    "* Documentary\n",
    "* Drama\n",
    "* Fantasy\n",
    "* Film-Noir\n",
    "* Horror\n",
    "* Musical\n",
    "* Mystery\n",
    "* Romance\n",
    "* Sci-Fi\n",
    "* Thriller\n",
    "* War\n",
    "* Western\n",
    "* (no genres listed). \n",
    "\n",
    "Ratings Data File Structure (ratings.csv)\n",
    "-----------------------------------------\n",
    "\n",
    "All ratings are contained in the file `ratings.csv`. Each line of this file after the header row represents one rating of one movie by one user, and has the following format:\n",
    "\n",
    "    userId,movieId,rating,timestamp\n",
    "\n",
    "The lines within this file are ordered first by userId, then, within user, by movieId.\n",
    "\n",
    "Ratings are made on a 5-star scale, with half-star increments (0.5 stars - 5.0 stars).\n",
    "\n",
    "Timestamps represent seconds since midnight Coordinated Universal Time (UTC) of January 1, 1970."
   ]
  }
 ],
 "metadata": {
  "kernelspec": {
   "display_name": "Python 3",
   "language": "python",
   "name": "python3"
  },
  "language_info": {
   "codemirror_mode": {
    "name": "ipython",
    "version": 3
   },
   "file_extension": ".py",
   "mimetype": "text/x-python",
   "name": "python",
   "nbconvert_exporter": "python",
   "pygments_lexer": "ipython3",
   "version": "3.8.3"
  }
 },
 "nbformat": 4,
 "nbformat_minor": 4
}
