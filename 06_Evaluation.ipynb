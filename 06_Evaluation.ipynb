{
 "cells": [
  {
   "cell_type": "markdown",
   "metadata": {},
   "source": [
    "# Movie Recommendation Systems"
   ]
  },
  {
   "cell_type": "markdown",
   "metadata": {},
   "source": [
    "# Notebook 6: Evaluation & Conclusion"
   ]
  },
  {
   "cell_type": "code",
   "execution_count": null,
   "metadata": {},
   "outputs": [],
   "source": [
    "#Run initial set up first\n",
    "%run ./05_Modelling.ipynb"
   ]
  },
  {
   "cell_type": "markdown",
   "metadata": {},
   "source": [
    "## 7. Evaluation"
   ]
  },
  {
   "cell_type": "code",
   "execution_count": 162,
   "metadata": {},
   "outputs": [
    {
     "data": {
      "text/plain": [
       "Index(['content_based_rec', 'user_user_rec', 'item_item_rec', 'SVD_recs',\n",
       "       'KNN_user_user_recs', 'KNN_item_item_recs'],\n",
       "      dtype='object')"
      ]
     },
     "execution_count": 162,
     "metadata": {},
     "output_type": "execute_result"
    }
   ],
   "source": [
    "#Columns in 'user_items' with user recommendations\n",
    "rec_cols = user_items.columns[3:]\n",
    "rec_cols"
   ]
  },
  {
   "cell_type": "code",
   "execution_count": 163,
   "metadata": {
    "scrolled": false
   },
   "outputs": [
    {
     "name": "stdout",
     "output_type": "stream",
     "text": [
      "content_based_rec :  0.015292674993494666\n",
      "user_user_rec :  0.15085125398064508\n",
      "item_item_rec :  0.014754098360655738\n",
      "SVD_recs :  0.6797903253286742\n",
      "KNN_user_user_recs :  0.6779644718391303\n",
      "KNN_item_item_recs :  0.6884300059580601\n"
     ]
    }
   ],
   "source": [
    "#Results for Mean Average Precision @ K (MAPk), where K = 10\n",
    "\n",
    "#Print and store MAPk results\n",
    "mapk = [] \n",
    "\n",
    "for rec in rec_cols: \n",
    "    mapk_ = metrics.mapk(user_items['actuals'], user_items[rec], k=10)\n",
    "    print(rec, ': ', mapk_)\n",
    "    mapk.append(mapk_)"
   ]
  },
  {
   "cell_type": "code",
   "execution_count": 164,
   "metadata": {
    "scrolled": false
   },
   "outputs": [],
   "source": [
    "#Results dataframe\n",
    "mapk = pd.DataFrame([rec_cols, mapk]).transpose()\n",
    "mapk.columns = ['model', 'MAP@k, k=10']\n",
    "mapk = mapk.sort_values('MAP@k, k=10')"
   ]
  },
  {
   "cell_type": "code",
   "execution_count": 165,
   "metadata": {
    "scrolled": false
   },
   "outputs": [
    {
     "data": {
      "image/png": "[encoded data removed]",
      "text/plain": [
       "<Figure size 1080x504 with 1 Axes>"
      ]
     },
     "metadata": {
      "needs_background": "light"
     },
     "output_type": "display_data"
    }
   ],
   "source": [
    "#Plot results  \n",
    "plt.figure(figsize=(15,7))\n",
    "sns.barplot(data = mapk, x='model', y= 'MAP@k, k=10')\n",
    "plt.savefig('mapk.png')\n",
    "plt.show()"
   ]
  },
  {
   "cell_type": "markdown",
   "metadata": {},
   "source": [
    "**Findings**\n",
    "\n",
    "*Content-based*\n",
    "* Using genres only to develop content-based recommendations do not indicate a relatively high MAP@k. There was a bias to recommend movies associated with more genres listed. The recommeder could be improved by adding more attributes, such as movie cast names, directors and movie tags. \n",
    "\n",
    "*Recommenders built from scratch*\n",
    "* The user-based recommender performed better than the item-based recommender. \n",
    "* This could be due to various reasons: \n",
    "    * There were less users than movies in the data \n",
    "    * User similarities were more distinguishable than item similarities; user similarities ranged between -1 and 1, while item similarities ranged between 0 and 1\n",
    "    * The item-based recommender predicted a significant amount of zero ratings, overlooking a larger variety of movies to recommend\n",
    "\n",
    "*Model-based recommenders*\n",
    "* Performed better than recommenders built from scratch. This is likely due to the algorithms selecting only a number of user/item similarities rather than applying all users/items during computation. Given the sparsity in the user-item matrix, it is likely most users/items show insignificant levels of similarities. \n",
    "* The MAP@K, where K = 10, shows **item-item collaborative filtering using KNNBasic** performed the best on the test set, and marginally better than the other algorithms. "
   ]
  },
  {
   "cell_type": "markdown",
   "metadata": {},
   "source": [
    "## 8. Conclusion\n",
    "\n",
    "* The Surprise algorithms performed better and had a quicker execution time than the recommenders built from scratch. \n",
    "* The MAP@K, where K = 10, shows **item-item collaborative filtering using KNNBasic** performed the best on the test set, and marginally better than the other algorithms. "
   ]
  },
  {
   "cell_type": "code",
   "execution_count": null,
   "metadata": {},
   "outputs": [],
   "source": []
  }
 ],
 "metadata": {
  "kernelspec": {
   "display_name": "Python 3",
   "language": "python",
   "name": "python3"
  },
  "language_info": {
   "codemirror_mode": {
    "name": "ipython",
    "version": 3
   },
   "file_extension": ".py",
   "mimetype": "text/x-python",
   "name": "python",
   "nbconvert_exporter": "python",
   "pygments_lexer": "ipython3",
   "version": "3.8.3"
  }
 },
 "nbformat": 4,
 "nbformat_minor": 4
}
